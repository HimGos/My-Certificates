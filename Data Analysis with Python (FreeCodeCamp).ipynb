{
 "cells": [
  {
   "cell_type": "markdown",
   "id": "c71f9cfa",
   "metadata": {},
   "source": [
    "![certi](https://user-images.githubusercontent.com/107262838/184471290-c78223d0-e8c6-450e-9c3c-de47ed1cf0e8.png)"
   ]
  },
  {
   "cell_type": "code",
   "execution_count": null,
   "id": "745045d7",
   "metadata": {},
   "outputs": [],
   "source": []
  }
 ],
 "metadata": {
  "kernelspec": {
   "display_name": "Python 3 (ipykernel)",
   "language": "python",
   "name": "python3"
  },
  "language_info": {
   "codemirror_mode": {
    "name": "ipython",
    "version": 3
   },
   "file_extension": ".py",
   "mimetype": "text/x-python",
   "name": "python",
   "nbconvert_exporter": "python",
   "pygments_lexer": "ipython3",
   "version": "3.9.12"
  }
 },
 "nbformat": 4,
 "nbformat_minor": 5
}
