{
 "cells": [
  {
   "cell_type": "markdown",
   "id": "c0a2bc35",
   "metadata": {},
   "source": [
    "![cert](https://365datascience.com/resources/certificates/CC-99B8648E21.jpg)"
   ]
  },
  {
   "cell_type": "markdown",
   "id": "3a21fa7e",
   "metadata": {},
   "source": [
    "***Verify Here*** - https://learn.365datascience.com/c/1296f903ef/"
   ]
  }
 ],
 "metadata": {
  "kernelspec": {
   "display_name": "Python 3 (ipykernel)",
   "language": "python",
   "name": "python3"
  },
  "language_info": {
   "codemirror_mode": {
    "name": "ipython",
    "version": 3
   },
   "file_extension": ".py",
   "mimetype": "text/x-python",
   "name": "python",
   "nbconvert_exporter": "python",
   "pygments_lexer": "ipython3",
   "version": "3.9.12"
  }
 },
 "nbformat": 4,
 "nbformat_minor": 5
}
