{
 "cells": [
  {
   "cell_type": "markdown",
   "id": "2f8eb671",
   "metadata": {},
   "source": [
    "![PythonBasics](https://user-images.githubusercontent.com/107262838/184471764-6fd6f62c-b79a-44e9-a7e8-147b2936ca68.png)"
   ]
  },
  {
   "cell_type": "markdown",
   "id": "034f51c1",
   "metadata": {},
   "source": [
    "***Verify Here*** - https://www.hackerrank.com/certificates/8f5f4441a1b6"
   ]
  },
  {
   "cell_type": "code",
   "execution_count": null,
   "id": "08e7c43a",
   "metadata": {},
   "outputs": [],
   "source": []
  }
 ],
 "metadata": {
  "kernelspec": {
   "display_name": "Python 3 (ipykernel)",
   "language": "python",
   "name": "python3"
  },
  "language_info": {
   "codemirror_mode": {
    "name": "ipython",
    "version": 3
   },
   "file_extension": ".py",
   "mimetype": "text/x-python",
   "name": "python",
   "nbconvert_exporter": "python",
   "pygments_lexer": "ipython3",
   "version": "3.9.12"
  }
 },
 "nbformat": 4,
 "nbformat_minor": 5
}
